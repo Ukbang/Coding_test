{
 "cells": [
  {
   "cell_type": "code",
   "execution_count": 34,
   "id": "ed7efae9",
   "metadata": {},
   "outputs": [],
   "source": [
    "lotto_list = list(range(1,46))"
   ]
  },
  {
   "cell_type": "code",
   "execution_count": 37,
   "id": "8dfc2d01",
   "metadata": {},
   "outputs": [
    {
     "data": {
      "text/plain": [
       "45"
      ]
     },
     "execution_count": 37,
     "metadata": {},
     "output_type": "execute_result"
    }
   ],
   "source": [
    "lotto_list[45-1]"
   ]
  },
  {
   "cell_type": "code",
   "execution_count": 6,
   "id": "5d120688",
   "metadata": {},
   "outputs": [],
   "source": [
    "import random\n",
    "import numpy as np"
   ]
  },
  {
   "cell_type": "code",
   "execution_count": 13,
   "id": "7f2d443a",
   "metadata": {},
   "outputs": [
    {
     "data": {
      "text/plain": [
       "40"
      ]
     },
     "execution_count": 13,
     "metadata": {},
     "output_type": "execute_result"
    }
   ],
   "source": [
    "random.choice(lotto_list)"
   ]
  },
  {
   "cell_type": "code",
   "execution_count": 18,
   "id": "e07fdc9b",
   "metadata": {},
   "outputs": [],
   "source": [
    "del lotto_list[1-1]"
   ]
  },
  {
   "cell_type": "code",
   "execution_count": 82,
   "id": "894006fd",
   "metadata": {},
   "outputs": [],
   "source": [
    "def lotto(times):\n",
    "    import random\n",
    "    lotto = []\n",
    "    for _ in range(times):\n",
    "        lotto_list = list(range(1,46))\n",
    "        lotto_time = []\n",
    "        for _ in range(6):\n",
    "            lotto_number = random.choice(lotto_list)\n",
    "            lotto_time.append(lotto_number)\n",
    "            del lotto_list[lotto_list.index(lotto_number)]\n",
    "        lotto.append(lotto_time)\n",
    "            \n",
    "    for i,n in enumerate(lotto):\n",
    "        n = sorted(n)\n",
    "        print('{}번째 로또 번호\\n'.format(i+1), *n, '\\n')"
   ]
  },
  {
   "cell_type": "code",
   "execution_count": 83,
   "id": "3fc6b580",
   "metadata": {},
   "outputs": [
    {
     "name": "stdout",
     "output_type": "stream",
     "text": [
      "1번째 로또 번호\n",
      " 6 9 16 24 30 35 \n",
      "\n"
     ]
    }
   ],
   "source": [
    "lotto(1)"
   ]
  },
  {
   "cell_type": "code",
   "execution_count": 85,
   "id": "fe79a4a8",
   "metadata": {},
   "outputs": [
    {
     "name": "stdout",
     "output_type": "stream",
     "text": [
      "1번째 로또 번호\n",
      " 6 9 10 23 28 31 \n",
      "\n",
      "2번째 로또 번호\n",
      " 1 4 13 31 38 39 \n",
      "\n",
      "3번째 로또 번호\n",
      " 1 4 5 15 20 30 \n",
      "\n",
      "4번째 로또 번호\n",
      " 13 23 27 30 40 41 \n",
      "\n",
      "5번째 로또 번호\n",
      " 5 9 20 21 28 34 \n",
      "\n",
      "6번째 로또 번호\n",
      " 3 8 10 13 37 45 \n",
      "\n",
      "7번째 로또 번호\n",
      " 7 13 16 28 32 33 \n",
      "\n",
      "8번째 로또 번호\n",
      " 7 13 19 23 37 38 \n",
      "\n",
      "9번째 로또 번호\n",
      " 2 19 21 28 32 36 \n",
      "\n",
      "10번째 로또 번호\n",
      " 7 8 24 34 39 43 \n",
      "\n"
     ]
    }
   ],
   "source": [
    "lotto(10)"
   ]
  }
 ],
 "metadata": {
  "kernelspec": {
   "display_name": "Python 3 (ipykernel)",
   "language": "python",
   "name": "python3"
  },
  "language_info": {
   "codemirror_mode": {
    "name": "ipython",
    "version": 3
   },
   "file_extension": ".py",
   "mimetype": "text/x-python",
   "name": "python",
   "nbconvert_exporter": "python",
   "pygments_lexer": "ipython3",
   "version": "3.9.7"
  }
 },
 "nbformat": 4,
 "nbformat_minor": 5
}
