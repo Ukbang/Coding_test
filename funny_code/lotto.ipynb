{
 "cells": [
  {
   "cell_type": "code",
   "execution_count": 1,
   "id": "65c2726f",
   "metadata": {},
   "outputs": [],
   "source": [
    "def lotto(times):\n",
    "    import random\n",
    "    lotto = []\n",
    "    for _ in range(times):\n",
    "        lotto_list = list(range(1,46))\n",
    "        lotto_time = []\n",
    "        for _ in range(6):\n",
    "            lotto_number = random.choice(lotto_list)\n",
    "            lotto_time.append(lotto_number)\n",
    "            del lotto_list[lotto_list.index(lotto_number)]\n",
    "        lotto.append(lotto_time)\n",
    "            \n",
    "    for i,n in enumerate(lotto):\n",
    "        n = sorted(n)\n",
    "        print('{}번째 로또 번호\\n'.format(i+1), *n, '\\n')"
   ]
  },
  {
   "cell_type": "code",
   "execution_count": 2,
   "id": "c97feb64",
   "metadata": {},
   "outputs": [
    {
     "name": "stdout",
     "output_type": "stream",
     "text": [
      "1번째 로또 번호\n",
      " 8 13 26 33 34 35 \n",
      "\n"
     ]
    }
   ],
   "source": [
    "lotto(1)"
   ]
  },
  {
   "cell_type": "code",
   "execution_count": 3,
   "id": "44ea1ac1",
   "metadata": {},
   "outputs": [
    {
     "name": "stdout",
     "output_type": "stream",
     "text": [
      "1번째 로또 번호\n",
      " 8 10 13 24 34 42 \n",
      "\n",
      "2번째 로또 번호\n",
      " 2 7 16 27 29 33 \n",
      "\n",
      "3번째 로또 번호\n",
      " 1 8 16 19 30 33 \n",
      "\n",
      "4번째 로또 번호\n",
      " 2 13 14 24 25 26 \n",
      "\n",
      "5번째 로또 번호\n",
      " 1 22 30 31 41 43 \n",
      "\n",
      "6번째 로또 번호\n",
      " 1 2 6 28 32 38 \n",
      "\n",
      "7번째 로또 번호\n",
      " 6 19 35 40 43 44 \n",
      "\n",
      "8번째 로또 번호\n",
      " 4 12 29 31 39 41 \n",
      "\n",
      "9번째 로또 번호\n",
      " 5 6 29 30 39 42 \n",
      "\n",
      "10번째 로또 번호\n",
      " 2 8 12 31 42 45 \n",
      "\n"
     ]
    }
   ],
   "source": [
    "lotto(10)"
   ]
  }
 ],
 "metadata": {
  "kernelspec": {
   "display_name": "Python 3 (ipykernel)",
   "language": "python",
   "name": "python3"
  },
  "language_info": {
   "codemirror_mode": {
    "name": "ipython",
    "version": 3
   },
   "file_extension": ".py",
   "mimetype": "text/x-python",
   "name": "python",
   "nbconvert_exporter": "python",
   "pygments_lexer": "ipython3",
   "version": "3.9.7"
  }
 },
 "nbformat": 4,
 "nbformat_minor": 5
}
 
