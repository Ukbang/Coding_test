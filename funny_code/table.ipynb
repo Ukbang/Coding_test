{
  "nbformat": 4,
  "nbformat_minor": 0,
  "metadata": {
    "colab": {
      "provenance": []
    },
    "kernelspec": {
      "name": "python3",
      "display_name": "Python 3"
    },
    "language_info": {
      "name": "python"
    }
  },
  "cells": [
    {
      "cell_type": "code",
      "source": [
        "import random\n",
        "\n",
        "\"\"\"\n",
        "한개의 테이블에 3명씩 테이블좌석을 지정하라.\n",
        "중복되면 안됨.\n",
        "\"\"\"\n",
        "\n",
        "\n",
        "member = {0: '아이유', 1: '조인성', 2: '황정민',\n",
        "          3: '송승헌', 4: '이광수', 5: '유재석',\n",
        "          6: '송지효', 7: '김종국', 8: '자이언티',\n",
        "          9: '크러쉬', 10:'타블로', 11:'임창정',\n",
        "          12:'음바페', 13:'메시', 14:'호날두',\n",
        "          15:'박지성', 16:'손흥민', 17:'벤투',\n",
        "          18:'조규성', 19:'카카오', 20:'네이버'}\n",
        "\n",
        "for i in range(1, 8):\n",
        "    member_list = []\n",
        "    for _ in range(3):\n",
        "        ran_number = random.choice(list(member.keys()))\n",
        "        member_list.append(member[ran_number])\n",
        "        del member[ran_number]\n",
        "    member_list = sorted(member_list)\n",
        "    print(i, '번째 테이블', member_list)        "
      ],
      "metadata": {
        "colab": {
          "base_uri": "https://localhost:8080/"
        },
        "id": "w-n739K_aB6p",
        "outputId": "78a82994-6afe-4113-aba2-070baf794ee6"
      },
      "execution_count": 39,
      "outputs": [
        {
          "output_type": "stream",
          "name": "stdout",
          "text": [
            "1 번째 테이블 ['송승헌', '아이유', '조인성']\n",
            "2 번째 테이블 ['벤투', '유재석', '카카오']\n",
            "3 번째 테이블 ['손흥민', '송지효', '이광수']\n",
            "4 번째 테이블 ['김종국', '조규성', '황정민']\n",
            "5 번째 테이블 ['네이버', '음바페', '타블로']\n",
            "6 번째 테이블 ['메시', '자이언티', '호날두']\n",
            "7 번째 테이블 ['박지성', '임창정', '크러쉬']\n"
          ]
        }
      ]
    }
  ]
}