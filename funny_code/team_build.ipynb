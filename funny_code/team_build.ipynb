{
 "cells": [
  {
   "cell_type": "markdown",
   "metadata": {},
   "source": [
    "### 응, 힌튼 길드 팀 배치"
   ]
  },
  {
   "cell_type": "code",
   "execution_count": 1,
   "metadata": {},
   "outputs": [],
   "source": [
    "ng = ['이은영', '정용은', '강동훈', \n",
    "      '장다연','최영석', '이동원', \n",
    "      '박지성', '이종훈', '김새봄']\n",
    "\n",
    "hinton = ['허지은', '정영진', '김민지',\n",
    "          '김영준', '이서영', '이재상', \n",
    "          '임근웅', '신지혜', '노현정' ,'채화정']"
   ]
  },
  {
   "cell_type": "code",
   "execution_count": null,
   "metadata": {},
   "outputs": [],
   "source": [
    "def mix_build(ng, hinton):\n",
    "\n",
    "def team_build(team, n):\n",
    "    import random\n",
    "\n",
    "    "
   ]
  }
 ],
 "metadata": {
  "kernelspec": {
   "display_name": "base",
   "language": "python",
   "name": "python3"
  },
  "language_info": {
   "codemirror_mode": {
    "name": "ipython",
    "version": 3
   },
   "file_extension": ".py",
   "mimetype": "text/x-python",
   "name": "python",
   "nbconvert_exporter": "python",
   "pygments_lexer": "ipython3",
   "version": "3.9.12"
  },
  "orig_nbformat": 4
 },
 "nbformat": 4,
 "nbformat_minor": 2
}
