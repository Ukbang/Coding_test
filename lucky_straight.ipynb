{
  "nbformat": 4,
  "nbformat_minor": 0,
  "metadata": {
    "colab": {
      "provenance": [],
      "collapsed_sections": []
    },
    "kernelspec": {
      "name": "python3",
      "display_name": "Python 3"
    },
    "language_info": {
      "name": "python"
    }
  },
  "cells": [
    {
      "cell_type": "code",
      "source": [
        "score = input()\n",
        "\n",
        "mean = len(score)//2\n",
        "score = list(score)\n",
        "left_score = score[:mean]\n",
        "right_score = score[mean:]\n",
        "\n",
        "left_total = 0\n",
        "right_total = 0\n",
        "\n",
        "for num in range(mean):\n",
        "    left_total += int(left_score[num])\n",
        "    right_total += int(right_score[num])\n",
        "\n",
        "if left_total - right_total == 0:\n",
        "    print('Lucky')\n",
        "else:\n",
        "    print('Ready')    "
      ],
      "metadata": {
        "colab": {
          "base_uri": "https://localhost:8080/"
        },
        "id": "7Xs-YNW_-igs",
        "outputId": "7de3a6aa-5340-44f0-bf9f-2ce2396df004"
      },
      "execution_count": null,
      "outputs": [
        {
          "output_type": "stream",
          "name": "stdout",
          "text": [
            "7755\n",
            "Ready\n"
          ]
        }
      ]
    }
  ]
}