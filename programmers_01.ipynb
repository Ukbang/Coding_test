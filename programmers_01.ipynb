{
  "nbformat": 4,
  "nbformat_minor": 0,
  "metadata": {
    "colab": {
      "provenance": [],
      "collapsed_sections": []
    },
    "kernelspec": {
      "name": "python3",
      "display_name": "Python 3"
    },
    "language_info": {
      "name": "python"
    }
  },
  "cells": [
    {
      "cell_type": "code",
      "execution_count": 35,
      "metadata": {
        "id": "TV9VMt8OkCXg"
      },
      "outputs": [],
      "source": [
        "def solution(num, total):\n",
        "    x = total//num\n",
        "    y = [x]\n",
        "    x_m = x\n",
        "    x_p = x\n",
        "    x_t = x\n",
        "    while True:\n",
        "        if num < 1 or num > 100 or total < 0 or total > 1000: \n",
        "            print('제한된 범위가 아닙니다.')\n",
        "            break\n",
        "        else:\n",
        "            x_p +=  1\n",
        "            y.append(x_p)\n",
        "            x_t +=  x_p\n",
        "            if x_t == total:\n",
        "                break\n",
        "            else:\n",
        "                x_m -=  1\n",
        "                y.append(x_m)\n",
        "                x_t += x_m\n",
        "                if x_t == total:\n",
        "                    break\n",
        "                else:\n",
        "                    continue\n",
        "    answer = sorted(y)\n",
        "    return answer"
      ]
    },
    {
      "cell_type": "code",
      "source": [
        "solution(3,15)"
      ],
      "metadata": {
        "colab": {
          "base_uri": "https://localhost:8080/"
        },
        "id": "b_xi-9380L09",
        "outputId": "d9e1b78f-4b05-45a2-e425-d2d0f1d21592"
      },
      "execution_count": 36,
      "outputs": [
        {
          "output_type": "execute_result",
          "data": {
            "text/plain": [
              "[4, 5, 6]"
            ]
          },
          "metadata": {},
          "execution_count": 36
        }
      ]
    },
    {
      "cell_type": "code",
      "source": [
        "solution(4,14)"
      ],
      "metadata": {
        "colab": {
          "base_uri": "https://localhost:8080/"
        },
        "id": "iuJQs1xS0YND",
        "outputId": "ff74c884-dce2-4376-9437-5a6ce4a8019d"
      },
      "execution_count": 37,
      "outputs": [
        {
          "output_type": "execute_result",
          "data": {
            "text/plain": [
              "[2, 3, 4, 5]"
            ]
          },
          "metadata": {},
          "execution_count": 37
        }
      ]
    },
    {
      "cell_type": "code",
      "source": [
        "solution(5,5)"
      ],
      "metadata": {
        "colab": {
          "base_uri": "https://localhost:8080/"
        },
        "id": "Pgyj5j4O0ZOj",
        "outputId": "3add7155-607f-4df9-942c-42d725f2b138"
      },
      "execution_count": 38,
      "outputs": [
        {
          "output_type": "execute_result",
          "data": {
            "text/plain": [
              "[-1, 0, 1, 2, 3]"
            ]
          },
          "metadata": {},
          "execution_count": 38
        }
      ]
    },
    {
      "cell_type": "code",
      "source": [
        "solution(3,12)"
      ],
      "metadata": {
        "colab": {
          "base_uri": "https://localhost:8080/"
        },
        "id": "ZkwmQuPE0aVJ",
        "outputId": "1bd57022-f31e-4c34-b94f-130dd9ffe50d"
      },
      "execution_count": 39,
      "outputs": [
        {
          "output_type": "execute_result",
          "data": {
            "text/plain": [
              "[3, 4, 5]"
            ]
          },
          "metadata": {},
          "execution_count": 39
        }
      ]
    }
  ]
}